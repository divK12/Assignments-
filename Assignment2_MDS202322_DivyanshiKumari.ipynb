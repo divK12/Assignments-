{
 "cells": [
  {
   "cell_type": "code",
   "execution_count": 1,
   "id": "c382b78a",
   "metadata": {},
   "outputs": [],
   "source": [
    "def histogram(l):\n",
    "    count={}\n",
    "    for i in l:\n",
    "        if i in count:\n",
    "            count[i]=count[i]+1\n",
    "        else:\n",
    "            count[i]=1\n",
    "    count=list(count.items())\n",
    "    t=0\n",
    "    for i in range(len(count)):\n",
    "        for j in range(0,len(count)-i-1):\n",
    "            if (count[j][1]>count[j+1][1]) or (count[j][1]==count[j+1][1] and count[j][0]>count[j+1][0]):\n",
    "                t=count[j]\n",
    "                count[j]=count[j+1]\n",
    "                count[j+1]=t\n",
    "    return count"
   ]
  },
  {
   "cell_type": "code",
   "execution_count": 4,
   "id": "bf764405",
   "metadata": {},
   "outputs": [],
   "source": [
    "\n",
    "def onehop(l):\n",
    "    result=set()\n",
    "    for i in range(len(l)):\n",
    "        for j in range(len(l)):\n",
    "            if i!=j and l[i][0]!=l[j][1] and l[i][1]==l[j][0] and l[i][0]!=l[i][1] and l[j][0]!=l[j][1]:\n",
    "                result.add((l[i][0],l[j][1]))\n",
    "    return sorted(list(result))"
   ]
  },
  {
   "cell_type": "code",
   "execution_count": 3,
   "id": "77542415",
   "metadata": {},
   "outputs": [],
   "source": [
    "def clean(p):\n",
    "    result={}\n",
    "    for coef,exp in p:\n",
    "        if coef!=0:\n",
    "            if exp in result:\n",
    "                result[exp]+=coef\n",
    "            else:\n",
    "                result[exp]=coef\n",
    "    result = [(coef, exp) for exp, coef in result.items()]\n",
    "    t=0\n",
    "    for i in range(len(result)):\n",
    "        for j in range(0,len(result)-i-1):\n",
    "            if (result[j][1]<result[j+1][1]):\n",
    "                t=result[j]\n",
    "                result[j]=result[j+1]\n",
    "                result[j+1]=t\n",
    "    return result\n",
    "\n",
    "def addpoly(p1,p2):\n",
    "    add=p1+p2\n",
    "    add=clean(add)\n",
    "    return(clean(add))\n",
    "\n",
    "def multpoly(p1,p2):\n",
    "    mult={}\n",
    "    for (coef1,exp1) in p1:\n",
    "        for (coef2,exp2) in p2:\n",
    "            coeff_prod=coef1*coef2\n",
    "            exp_prod=exp1+exp2\n",
    "            if exp_prod in mult:\n",
    "                mult[exp_prod]+=coeff_prod\n",
    "            else:\n",
    "                mult[exp_prod]=coeff_prod\n",
    "    mult = [(coef, exp) for exp, coef in mult.items()]\n",
    "    mult=clean(mult)\n",
    "    return(mult)"
   ]
  },
  {
   "cell_type": "code",
   "execution_count": 5,
   "id": "8cf92f7d",
   "metadata": {},
   "outputs": [
    {
     "data": {
      "text/plain": [
       "[(1, 3), (4, 2)]"
      ]
     },
     "execution_count": 5,
     "metadata": {},
     "output_type": "execute_result"
    }
   ],
   "source": [
    "onehop([[1,2],[4,3],[3,2],[2,3]])"
   ]
  },
  {
   "cell_type": "code",
   "execution_count": null,
   "id": "2a720ed4",
   "metadata": {},
   "outputs": [],
   "source": []
  }
 ],
 "metadata": {
  "kernelspec": {
   "display_name": "Python 3 (ipykernel)",
   "language": "python",
   "name": "python3"
  },
  "language_info": {
   "codemirror_mode": {
    "name": "ipython",
    "version": 3
   },
   "file_extension": ".py",
   "mimetype": "text/x-python",
   "name": "python",
   "nbconvert_exporter": "python",
   "pygments_lexer": "ipython3",
   "version": "3.11.3"
  }
 },
 "nbformat": 4,
 "nbformat_minor": 5
}
