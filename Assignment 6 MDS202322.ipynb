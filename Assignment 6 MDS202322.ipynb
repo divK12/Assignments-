{
 "cells": [
  {
   "cell_type": "code",
   "execution_count": 6,
   "id": "8519bdc5",
   "metadata": {},
   "outputs": [],
   "source": [
    "def checkPalin(n,s):\n",
    "    #n=len(s)\n",
    "    c=-1\n",
    "    l=\"\"\n",
    "    dp=[[False]*n for _ in range(n)]\n",
    "    for g in range(n):\n",
    "        for i in range(n-g):\n",
    "            j=i+g\n",
    "            if g==0:\n",
    "                dp[i][j]=True\n",
    "            elif g==1:\n",
    "                dp[i][j]=(s[i]==s[j])\n",
    "            else:\n",
    "                dp[i][j]=(s[i]==s[j] and dp[i+1][j-1])\n",
    "            \n",
    "            if dp[i][j] and c<j-i+1:\n",
    "                l=s[i:j+1]\n",
    "                c=len(l)\n",
    "    \n",
    "    print(c,\"\\n\",s)\n"
   ]
  },
  {
   "cell_type": "code",
   "execution_count": 10,
   "id": "de6b35db",
   "metadata": {},
   "outputs": [
    {
     "name": "stdout",
     "output_type": "stream",
     "text": [
      "geeksskeeg \n",
      " 10\n",
      "Length is: None\n"
     ]
    }
   ],
   "source": [
    "# Driver code\n",
    "if __name__ == '__main__':\n",
    "\tst = \"forgeeksskeegfor\"\n",
    "\tl = checkPalin(len(st),st)\n",
    "\tprint(\"Length is:\", l)"
   ]
  },
  {
   "cell_type": "code",
   "execution_count": null,
   "id": "df753d45",
   "metadata": {},
   "outputs": [],
   "source": []
  }
 ],
 "metadata": {
  "kernelspec": {
   "display_name": "Python 3 (ipykernel)",
   "language": "python",
   "name": "python3"
  },
  "language_info": {
   "codemirror_mode": {
    "name": "ipython",
    "version": 3
   },
   "file_extension": ".py",
   "mimetype": "text/x-python",
   "name": "python",
   "nbconvert_exporter": "python",
   "pygments_lexer": "ipython3",
   "version": "3.11.3"
  }
 },
 "nbformat": 4,
 "nbformat_minor": 5
}
