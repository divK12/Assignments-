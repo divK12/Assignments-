{
 "cells": [
  {
   "cell_type": "code",
   "execution_count": 1,
   "id": "24e12ed4",
   "metadata": {},
   "outputs": [],
   "source": [
    "def delchar(s,c):\n",
    "    st=''\n",
    "    if len(c)==1:\n",
    "        for i in s:\n",
    "            if i==c:\n",
    "                st+=''\n",
    "            else:\n",
    "                st+=i\n",
    "        return st\n",
    "    else:\n",
    "        return(s)\n",
    "    \n",
    "\n",
    "    "
   ]
  },
  {
   "cell_type": "code",
   "execution_count": 13,
   "id": "751b3aef",
   "metadata": {},
   "outputs": [
    {
     "data": {
      "text/plain": [
       "'anana'"
      ]
     },
     "execution_count": 13,
     "metadata": {},
     "output_type": "execute_result"
    }
   ],
   "source": [
    "delchar('banana','b')"
   ]
  },
  {
   "cell_type": "code",
   "execution_count": 9,
   "id": "16e78fbc",
   "metadata": {},
   "outputs": [],
   "source": [
    "def accordian(l):\n",
    "    diff = []\n",
    "    for i in range(len(l) - 1):\n",
    "        diff.append(abs(l[i] - l[i + 1]))\n",
    "\n",
    "    if len(diff) < 3:\n",
    "        if diff[0] > diff[1] or diff[0] < diff[1]:\n",
    "            return True\n",
    "        else:\n",
    "            return False\n",
    "    else:\n",
    "        c = 0\n",
    "        while c < len(diff) - 2:\n",
    "            if ((diff[c] < diff[c + 1] and diff[c + 1] < diff[c + 2]) or (diff[c] > diff[c + 1] and diff[c + 1] > diff[c + 2])):\n",
    "                return False\n",
    "            c += 1\n",
    "        return True"
   ]
  },
  {
   "cell_type": "code",
   "execution_count": 10,
   "id": "c97170d2",
   "metadata": {},
   "outputs": [
    {
     "data": {
      "text/plain": [
       "False"
      ]
     },
     "execution_count": 10,
     "metadata": {},
     "output_type": "execute_result"
    }
   ],
   "source": [
    "accordian([1,5,2,8,1])"
   ]
  },
  {
   "cell_type": "code",
   "execution_count": 11,
   "id": "152a6c8a",
   "metadata": {},
   "outputs": [
    {
     "data": {
      "text/plain": [
       "True"
      ]
     },
     "execution_count": 11,
     "metadata": {},
     "output_type": "execute_result"
    }
   ],
   "source": [
    "accordian([-2,1,5,2,8,3])"
   ]
  },
  {
   "cell_type": "code",
   "execution_count": 12,
   "id": "55ed85a3",
   "metadata": {},
   "outputs": [],
   "source": [
    "def matched(s):\n",
    "    st=[]\n",
    "    for i in s:\n",
    "        if i=='(':\n",
    "            st.append(i)\n",
    "        elif i==')':\n",
    "            if len(st)!=0:\n",
    "                st=st[:-1]\n",
    "    if len(st)==0:\n",
    "        return True\n",
    "    else:\n",
    "        return False"
   ]
  },
  {
   "cell_type": "code",
   "execution_count": 3,
   "id": "671a4b24",
   "metadata": {},
   "outputs": [],
   "source": [
    "def nestingdepth(s):\n",
    "    if matched(s)==True:\n",
    "        k=0\n",
    "        max_nest=0\n",
    "        for i in s:\n",
    "            if i=='(':\n",
    "                k+=1\n",
    "                max_nest=max(max_nest,k)\n",
    "            elif i==')':\n",
    "                k-=1\n",
    "        return max_nest\n",
    "    else:\n",
    "        return -1\n",
    "                \n",
    "                \n",
    "    "
   ]
  },
  {
   "cell_type": "code",
   "execution_count": 14,
   "id": "89e85000",
   "metadata": {},
   "outputs": [
    {
     "data": {
      "text/plain": [
       "4"
      ]
     },
     "execution_count": 14,
     "metadata": {},
     "output_type": "execute_result"
    }
   ],
   "source": [
    "nestingdepth(\"((jkl)78(A)&l(8(dd(FJI:),):)?)\")"
   ]
  },
  {
   "cell_type": "code",
   "execution_count": 6,
   "id": "4dbc7973",
   "metadata": {},
   "outputs": [],
   "source": [
    "def rotate(m):\n",
    "    n=len(m)\n",
    "    d=[[0]*n for x in range(n)]\n",
    "    for i in range(n):\n",
    "        for j in range(n):\n",
    "            d[i][j]=m[n-1-j][i]\n",
    "    return d\n",
    "            "
   ]
  },
  {
   "cell_type": "code",
   "execution_count": 7,
   "id": "39cff266",
   "metadata": {},
   "outputs": [
    {
     "data": {
      "text/plain": [
       "[[7, 4, 1], [8, 5, 2], [9, 6, 3]]"
      ]
     },
     "execution_count": 7,
     "metadata": {},
     "output_type": "execute_result"
    }
   ],
   "source": [
    "rotate([[1,2,3],[4,5,6],[7,8,9]])"
   ]
  },
  {
   "cell_type": "code",
   "execution_count": null,
   "id": "f74fd577",
   "metadata": {},
   "outputs": [],
   "source": []
  }
 ],
 "metadata": {
  "kernelspec": {
   "display_name": "Python 3 (ipykernel)",
   "language": "python",
   "name": "python3"
  },
  "language_info": {
   "codemirror_mode": {
    "name": "ipython",
    "version": 3
   },
   "file_extension": ".py",
   "mimetype": "text/x-python",
   "name": "python",
   "nbconvert_exporter": "python",
   "pygments_lexer": "ipython3",
   "version": "3.11.3"
  }
 },
 "nbformat": 4,
 "nbformat_minor": 5
}
