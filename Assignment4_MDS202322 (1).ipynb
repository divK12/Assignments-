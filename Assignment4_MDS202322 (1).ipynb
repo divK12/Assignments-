{
 "cells": [
  {
   "cell_type": "code",
   "execution_count": 1,
   "id": "479042f1",
   "metadata": {},
   "outputs": [],
   "source": [
    "def SelectionSort(a):\n",
    "    n=len(a)\n",
    "    for i in range(n):\n",
    "        min_index=i\n",
    "        for j in range(i+1,n):\n",
    "            if a[j]<a[min_index]:\n",
    "                min_index=j\n",
    "        (a[i],a[min_index])=(a[min_index],a[i])\n",
    "    return a"
   ]
  },
  {
   "cell_type": "code",
   "execution_count": 2,
   "id": "a2227a51",
   "metadata": {},
   "outputs": [],
   "source": [
    "def InsertionSort(a):\n",
    "    n=len(a)\n",
    "    for i in range(1,n):\n",
    "        j=i\n",
    "        while (j>0 and a[j]<a[j-1]):\n",
    "            (a[j],a[j-1])=(a[j-1],a[j])\n",
    "            j=j-1\n",
    "    return a"
   ]
  },
  {
   "cell_type": "code",
   "execution_count": 23,
   "id": "1f24ee9d",
   "metadata": {},
   "outputs": [],
   "source": [
    "import time\n",
    "import random\n",
    "import statistics\n",
    "def run_selection(func,K,N,M):\n",
    "    random.seed(1555)\n",
    "    result=[]\n",
    "    for _ in range(M):\n",
    "        r=[]\n",
    "        lists=[random.choices(range(1,50000),k=N) for j in range(K)]\n",
    "        for i in lists:\n",
    "            start=time.perf_counter()\n",
    "            func(i)\n",
    "            elapsed=time.perf_counter()-start\n",
    "            r.append(elapsed)\n",
    "            \n",
    "        mean_time=statistics.mean(r)\n",
    "        stddev_time=statistics.stdev(r)\n",
    "        result.append((mean_time,stddev_time))\n",
    "    \n",
    "    return result\n",
    "\n",
    "        "
   ]
  },
  {
   "cell_type": "code",
   "execution_count": 28,
   "id": "0c3a9917",
   "metadata": {},
   "outputs": [
    {
     "data": {
      "text/plain": [
       "[(0.8994333099998767, 0.04194624707203048),\n",
       " (0.8960098030004883, 0.04047014214795785),\n",
       " (0.9154326799992123, 0.03965887512043952),\n",
       " (0.8889718619984341, 0.04956627378229155),\n",
       " (0.9026719160011271, 0.039326898294527485)]"
      ]
     },
     "execution_count": 28,
     "metadata": {},
     "output_type": "execute_result"
    }
   ],
   "source": [
    "run_selection(SelectionSort,100,5000,5)"
   ]
  },
  {
   "cell_type": "code",
   "execution_count": 29,
   "id": "2e87c42d",
   "metadata": {},
   "outputs": [
    {
     "data": {
      "text/plain": [
       "[(1.6065311749989633, 0.05064545852016753),\n",
       " (1.5670376289982233, 0.04516707734428409),\n",
       " (1.6522157930021057, 0.10157051993106915),\n",
       " (1.6994162989986945, 0.05319031369052665),\n",
       " (1.6800550540001131, 0.08181117033401097)]"
      ]
     },
     "execution_count": 29,
     "metadata": {},
     "output_type": "execute_result"
    }
   ],
   "source": [
    "run_selection(InsertionSort,100,5000,5)"
   ]
  },
  {
   "cell_type": "code",
   "execution_count": 25,
   "id": "1503cb3d",
   "metadata": {},
   "outputs": [],
   "source": [
    "def MergeSort(a,cutoff=0):\n",
    "    if len(a)< cutoff:\n",
    "        InsertionSort(a)\n",
    "        return a\n",
    "    else:\n",
    "        if len(a)>1:\n",
    "            mid=len(a)//2\n",
    "            R=MergeSort(a[mid:])\n",
    "            L=MergeSort(a[:mid])\n",
    "        \n",
    "            i=j=k=0\n",
    "            while i<len(L)and j<len(R):\n",
    "                if L[i]<=R[j]:\n",
    "                    a[k]=L[i]\n",
    "                    i+=1\n",
    "                else:\n",
    "                    a[k]=R[j]\n",
    "                    j+=1\n",
    "                \n",
    "                k+=1\n",
    "            while i<len(L):\n",
    "                a[k]=L[i]\n",
    "                (i,k)=(i+1,k+1)\n",
    "            \n",
    "            while j<len(R):\n",
    "                a[k]=R[j]\n",
    "                (j,k)=(j+1,k+1)\n",
    "            \n",
    "        return a           "
   ]
  },
  {
   "cell_type": "code",
   "execution_count": 26,
   "id": "88394adb",
   "metadata": {},
   "outputs": [],
   "source": [
    "def QuickSort(a,cutoff=0):\n",
    "    if len(a)<cutoff:\n",
    "        InsertionSort(a)\n",
    "        return a\n",
    "    else:\n",
    "        pivot=random.choice(a)\n",
    "        low=[x for x in a if x<pivot]\n",
    "        equal=[x for x in a if x==pivot]\n",
    "        high=[x for x in a if x>pivot]\n",
    "        \n",
    "        if len(low)!=0:\n",
    "            QuickSort(low,cutoff)\n",
    "        if len(high)!=0:\n",
    "            QuickSort(high,cutoff)\n",
    "        \n",
    "        a[:]=low+equal+high\n",
    "        \n",
    "        return a\n",
    "        "
   ]
  },
  {
   "cell_type": "code",
   "execution_count": 27,
   "id": "f39b964b",
   "metadata": {},
   "outputs": [],
   "source": [
    "import time\n",
    "import statistics\n",
    "import random\n",
    "def hybrid_sort(func,K,N,M,cutoff):\n",
    "    random.seed(89)\n",
    "    result=[]\n",
    "    for _ in range(M):\n",
    "        r=[]\n",
    "        lists=[random.choices(range(1,50000),k=N) for j in range(K)]\n",
    "        for i in lists:\n",
    "            start=time.perf_counter()\n",
    "            func(i,cutoff)\n",
    "            elapsed=time.perf_counter()-start\n",
    "            r.append(elapsed)\n",
    "            \n",
    "        mean_time=statistics.mean(r)\n",
    "        stddev_time=statistics.stdev(r)\n",
    "        result.append((mean_time,stddev_time))\n",
    "    \n",
    "    return result\n",
    "\n",
    "    "
   ]
  },
  {
   "cell_type": "code",
   "execution_count": 6,
   "id": "cd6c1b0a",
   "metadata": {},
   "outputs": [
    {
     "data": {
      "text/plain": [
       "[(0.22942344266698153, 0.006875891518579317),\n",
       " (0.23074209933411718, 0.006972196780741064),\n",
       " (0.2299670426666853, 0.006803111883648997),\n",
       " (0.22930381499997263, 0.00802093667748315),\n",
       " (0.22201483366778121, 0.004826757764944583),\n",
       " (0.2219946366667864, 0.0055647234527206315),\n",
       " (0.22192354100086958, 0.005744934716906168),\n",
       " (0.22173309000044053, 0.005474610639706944),\n",
       " (0.22232402899826412, 0.004979461496667961)]"
      ]
     },
     "execution_count": 6,
     "metadata": {},
     "output_type": "execute_result"
    }
   ],
   "source": [
    "hybrid_sort(QuickSort,300,50000,9,100)"
   ]
  },
  {
   "cell_type": "code",
   "execution_count": 7,
   "id": "6488dda6",
   "metadata": {},
   "outputs": [
    {
     "data": {
      "text/plain": [
       "[(0.2120687426662577, 0.0043929047839813854),\n",
       " (0.21153790233259012, 0.004180498525619741),\n",
       " (0.21193673666818844, 0.004458894638590343),\n",
       " (0.21280311133198362, 0.004882202761115321),\n",
       " (0.21104428399984804, 0.005200490805400984),\n",
       " (0.2109054296676186, 0.004121433859123007),\n",
       " (0.21019292766732783, 0.0038019396493530638),\n",
       " (0.2121769336660509, 0.004476071376301601),\n",
       " (0.211944033333275, 0.005321415011325265)]"
      ]
     },
     "execution_count": 7,
     "metadata": {},
     "output_type": "execute_result"
    }
   ],
   "source": [
    "hybrid_sort(MergeSort,300,50000,9,100)"
   ]
  },
  {
   "cell_type": "code",
   "execution_count": 8,
   "id": "01de3138",
   "metadata": {},
   "outputs": [
    {
     "data": {
      "text/plain": [
       "[(0.17262680610004463, 0.011958984320654746),\n",
       " (0.16690276700028334, 0.011259295278752239),\n",
       " (0.15975375719965088, 0.005291845145453992),\n",
       " (0.15935582919919397, 0.005108044452180795),\n",
       " (0.15985763129999395, 0.005146529953211768),\n",
       " (0.16069120330005535, 0.006138593605874568)]"
      ]
     },
     "execution_count": 8,
     "metadata": {},
     "output_type": "execute_result"
    }
   ],
   "source": [
    "hybrid_sort(QuickSort,1000,55000,6,25)"
   ]
  },
  {
   "cell_type": "code",
   "execution_count": 9,
   "id": "64d45dd3",
   "metadata": {},
   "outputs": [
    {
     "data": {
      "text/plain": [
       "[(0.23402294570030063, 0.004466627048850349),\n",
       " (0.23911764749907888, 0.017342933826629887),\n",
       " (0.24085931669943966, 0.01655482077074938),\n",
       " (0.23956261069877655, 0.0166212084822785),\n",
       " (0.2360011592991068, 0.00535908965168395),\n",
       " (0.23478267020080237, 0.0047214294024716785)]"
      ]
     },
     "execution_count": 9,
     "metadata": {},
     "output_type": "execute_result"
    }
   ],
   "source": [
    "hybrid_sort(MergeSort,1000,55000,6,25)"
   ]
  },
  {
   "cell_type": "code",
   "execution_count": 16,
   "id": "70cdc891",
   "metadata": {},
   "outputs": [
    {
     "data": {
      "text/plain": [
       "[(0.19978630599711322, 0.01793425644310505),\n",
       " (0.19322915200144053, 0.016523401030881683),\n",
       " (0.18414039700001011, 0.012502722889102319),\n",
       " (0.18559136299882084, 0.012569098057602897),\n",
       " (0.18929354100022466, 0.014716530551741899)]"
      ]
     },
     "execution_count": 16,
     "metadata": {},
     "output_type": "execute_result"
    }
   ],
   "source": [
    "hybrid_sort(QuickSort,100,60000,5,11)"
   ]
  },
  {
   "cell_type": "code",
   "execution_count": 17,
   "id": "25ded074",
   "metadata": {},
   "outputs": [
    {
     "data": {
      "text/plain": [
       "[(0.26896322700049496, 0.011237178607736225),\n",
       " (0.2674302290007472, 0.012270788680074918),\n",
       " (0.26391451700153995, 0.009319146069136777),\n",
       " (0.2646167720021913, 0.013328288733716758),\n",
       " (0.2737068790011108, 0.016242165556631098)]"
      ]
     },
     "execution_count": 17,
     "metadata": {},
     "output_type": "execute_result"
    }
   ],
   "source": [
    "hybrid_sort(MergeSort,100,60000,5,11)"
   ]
  },
  {
   "cell_type": "code",
   "execution_count": 18,
   "id": "4c9ea94f",
   "metadata": {},
   "outputs": [
    {
     "data": {
      "text/plain": [
       "[(0.27267708400128565, 0.02120406706651198),\n",
       " (0.26608470133369944, 0.017329266227184264),\n",
       " (0.26266860533389264, 0.017489787138537462),\n",
       " (0.2619442140000562, 0.016951252981868864),\n",
       " (0.2569176513350491, 0.016693951310935116),\n",
       " (0.2740230873320252, 0.02393113246361909),\n",
       " (0.2654008446674561, 0.018785983615540534)]"
      ]
     },
     "execution_count": 18,
     "metadata": {},
     "output_type": "execute_result"
    }
   ],
   "source": [
    "hybrid_sort(QuickSort,150,70000,7,54)"
   ]
  },
  {
   "cell_type": "code",
   "execution_count": 19,
   "id": "744d0f36",
   "metadata": {},
   "outputs": [
    {
     "data": {
      "text/plain": [
       "[(0.32549669000184317, 0.017228268976425154),\n",
       " (0.3184060586655202, 0.012632887210398217),\n",
       " (0.3133341286686482, 0.014778805507788416),\n",
       " (0.3331183153322975, 0.022710444721077198),\n",
       " (0.3104830486680536, 0.011747684892357129),\n",
       " (0.31465934466628825, 0.01422071955122939),\n",
       " (0.31450638399944486, 0.014258338851016912)]"
      ]
     },
     "execution_count": 19,
     "metadata": {},
     "output_type": "execute_result"
    }
   ],
   "source": [
    "hybrid_sort(MergeSort,150,70000,7,54)"
   ]
  },
  {
   "cell_type": "code",
   "execution_count": 20,
   "id": "159283e5",
   "metadata": {},
   "outputs": [
    {
     "data": {
      "text/plain": [
       "[(0.2613296315551917, 0.019831684937717198),\n",
       " (0.2535502133323138, 0.01590856361432422),\n",
       " (0.2589182777768777, 0.01694983091151898),\n",
       " (0.25419096755542947, 0.017340989868391738),\n",
       " (0.25964108111220413, 0.018858827363290958),\n",
       " (0.25179149644494625, 0.016259917278740387),\n",
       " (0.2597311815561261, 0.018903765208224788),\n",
       " (0.4186224644439709, 0.042416745830713885),\n",
       " (0.40229076311115125, 0.07883238244579784),\n",
       " (0.39219278022291193, 0.050190150282659954),\n",
       " (0.398961687333261, 0.07912863656313084),\n",
       " (0.39277936999880086, 0.10841655259629109)]"
      ]
     },
     "execution_count": 20,
     "metadata": {},
     "output_type": "execute_result"
    }
   ],
   "source": [
    "hybrid_sort(QuickSort,450,80000,12,20)"
   ]
  },
  {
   "cell_type": "code",
   "execution_count": 21,
   "id": "37cc494c",
   "metadata": {},
   "outputs": [
    {
     "data": {
      "text/plain": [
       "[(0.5892798335558553, 0.13827256238166474),\n",
       " (0.554787707110841, 0.07555117868074744),\n",
       " (0.5732318784447853, 0.0457343003114727),\n",
       " (0.5673023693331439, 0.09646884945539429),\n",
       " (0.5533644942223974, 0.07949767827337842),\n",
       " (0.544376168667287, 0.058184950165892736),\n",
       " (0.5681041628888731, 0.06539784567634836),\n",
       " (0.5543611355548232, 0.06485364566099963),\n",
       " (0.539670411333791, 0.06058092530182244),\n",
       " (0.5762907617772645, 0.06641990224810954),\n",
       " (0.6952996997779054, 2.59794315880001),\n",
       " (2.4927539757773047, 40.91211681814521)]"
      ]
     },
     "execution_count": 21,
     "metadata": {},
     "output_type": "execute_result"
    }
   ],
   "source": [
    "hybrid_sort(MergeSort,450,80000,12,20)"
   ]
  },
  {
   "cell_type": "raw",
   "id": "ed6da096",
   "metadata": {},
   "source": [
    "Optimum cutoff for QuickSort 20-25\n",
    "Optimum cutoff for MergeSort 15-30"
   ]
  },
  {
   "cell_type": "code",
   "execution_count": 1,
   "id": "852e9f99",
   "metadata": {},
   "outputs": [
    {
     "data": {
      "text/plain": [
       "2"
      ]
     },
     "execution_count": 1,
     "metadata": {},
     "output_type": "execute_result"
    }
   ],
   "source": [
    "5//2"
   ]
  },
  {
   "cell_type": "code",
   "execution_count": null,
   "id": "76eed7ac",
   "metadata": {},
   "outputs": [],
   "source": []
  }
 ],
 "metadata": {
  "kernelspec": {
   "display_name": "Python 3 (ipykernel)",
   "language": "python",
   "name": "python3"
  },
  "language_info": {
   "codemirror_mode": {
    "name": "ipython",
    "version": 3
   },
   "file_extension": ".py",
   "mimetype": "text/x-python",
   "name": "python",
   "nbconvert_exporter": "python",
   "pygments_lexer": "ipython3",
   "version": "3.11.3"
  }
 },
 "nbformat": 4,
 "nbformat_minor": 5
}
